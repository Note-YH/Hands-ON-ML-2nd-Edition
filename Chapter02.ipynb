{
 "cells": [
  {
   "cell_type": "markdown",
   "metadata": {},
   "source": [
    "# 02.머신러닝 프로젝트 처음부터 끝까지\n",
    "- - -"
   ]
  },
  {
   "cell_type": "markdown",
   "metadata": {},
   "source": [
    "### 2.1 실제 데이터로 작업하기\n",
    "California Housing data"
   ]
  },
  {
   "cell_type": "markdown",
   "metadata": {},
   "source": [
    "### 2.2 큰 그림 보기  \n",
    "California Housing data : 블록그룹마다 인구, 중간소득, 중간 주택 가격 포함  \n",
    "데이터 기반으로 다른 측정 데이터 구역의 중간 주택 가격 예측  \n",
    "\n",
    "### 2.2.1 문제 정의\n",
    "문제를 푸는 목적을 명확히 알 것, 현재의 상태를 파악할 것  \n",
    "이 문제의 목적 : 앞으로의 투자 분석시 사용될 구역의 가격을 예측할 것  \n",
    "- 레이블 : 있음(그룹될 중간 주택 가격) >> 지도학습 \n",
    "- 다중 특성 >> 다중 회귀 분석\n",
    "- 구역의 가격 예측 >> 단변량 회귀\n",
    "- 데이터 작음, 연속적인 데이터 흐름 없음, 데이터 업데이트 없음 >> 배치학습\n",
    "\n",
    "_ _ _   \n",
    "**파이프라인**  \n",
    "데이터 처리 컴포넌트(Component)들이 연속되어 있는 것  \n",
    "각각 독립된 컴포넌트들은 데이터를 추출 처리하여 결과를 만들고 다음 컴포넌트가 이를 추출해서 결과를 만듦  \n",
    "컴포넌트들이 독립된 상태이기 때문에 컴포넌트가 문제가 생기더라도 다음 컴포너트는 마지막 결과값으로 동작 가능  \n",
    "이를 통해 시스템이 견고하고 이해하기 쉬우며 각자의 컴포넌트에 집중 할 수 있음  \n",
    "- 단점 : 모니터링이 잘 되지 않으면 고장난 컴포넌트를 알 수 없음, 데이터가 오래되면 전체 시스템 성능이 떨어짐  \n",
    "\n",
    "### 2.2.2 성능 측정 지표 선택  \n",
    "회귀 문제의 일반적인 성능 지표 = **평균 제곱근 오차(RMSE, Root Mean square error)**  \n",
    "$$RMES(X,h) = \\sqrt{ \\frac{1}{m}\\sum_{i=1}^m(h(x^{(i)}) - y^{(i)})^2}$$\n"
   ]
  },
  {
   "cell_type": "markdown",
   "metadata": {},
   "source": []
  },
  {
   "cell_type": "code",
   "execution_count": null,
   "metadata": {},
   "outputs": [],
   "source": []
  }
 ],
 "metadata": {
  "kernelspec": {
   "display_name": "Python 3",
   "language": "python",
   "name": "python3"
  },
  "language_info": {
   "codemirror_mode": {
    "name": "ipython",
    "version": 3
   },
   "file_extension": ".py",
   "mimetype": "text/x-python",
   "name": "python",
   "nbconvert_exporter": "python",
   "pygments_lexer": "ipython3",
   "version": "3.8.5"
  }
 },
 "nbformat": 4,
 "nbformat_minor": 4
}
