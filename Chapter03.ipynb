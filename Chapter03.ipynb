{
 "cells": [
  {
   "cell_type": "markdown",
   "metadata": {},
   "source": [
    "# 03. 분류\n",
    "- - -"
   ]
  },
  {
   "cell_type": "markdown",
   "metadata": {},
   "source": [
    "### 3.1 MNIST\n",
    "MNIST 데이터 셋 : 고등학생과 미국 인구조사국 직원들이 손으로 쓴 70,000개의 작은 숫자 이미지 데이터 셋"
   ]
  },
  {
   "cell_type": "code",
   "execution_count": 1,
   "metadata": {},
   "outputs": [],
   "source": [
    "import os\n",
    "import numpy as np"
   ]
  },
  {
   "cell_type": "code",
   "execution_count": 2,
   "metadata": {},
   "outputs": [
    {
     "data": {
      "text/plain": [
       "dict_keys(['data', 'target', 'frame', 'categories', 'feature_names', 'target_names', 'DESCR', 'details', 'url'])"
      ]
     },
     "execution_count": 2,
     "metadata": {},
     "output_type": "execute_result"
    }
   ],
   "source": [
    "from sklearn.datasets import fetch_openml\n",
    "mnist = fetch_openml('mnist_784',version=1)\n",
    "mnist.keys()"
   ]
  },
  {
   "cell_type": "markdown",
   "metadata": {},
   "source": [
    "**사이킷런의 데이터셋**\n",
    "- 데이터셋을 설명하는 DESCR\n",
    "- 샘플이 하나의 행, 특성이 하나의 열로 구성된 배열을 가진 data\n",
    "- 레이블 배열을 담은 target"
   ]
  },
  {
   "cell_type": "code",
   "execution_count": 3,
   "metadata": {},
   "outputs": [
    {
     "data": {
      "text/plain": [
       "(70000, 784)"
      ]
     },
     "execution_count": 3,
     "metadata": {},
     "output_type": "execute_result"
    }
   ],
   "source": [
    "X,y = mnist[\"data\"],mnist[\"target\"]\n",
    "X.shape"
   ]
  },
  {
   "cell_type": "code",
   "execution_count": 4,
   "metadata": {},
   "outputs": [
    {
     "data": {
      "text/plain": [
       "(70000,)"
      ]
     },
     "execution_count": 4,
     "metadata": {},
     "output_type": "execute_result"
    }
   ],
   "source": [
    "y.shape"
   ]
  },
  {
   "cell_type": "markdown",
   "metadata": {},
   "source": [
    "이미지 = 70,000개<br>\n",
    "이지미의 특성 = 784개(왜냐하면 이미지가 28x28픽셀이므로)<br>\n",
    "개개의 특성 = 단순히 0(흰색)부터 255(검은색)까지의 픽셀 강도<br>\n",
    "<br>\n",
    "데이터셋의 이미지 확인 = imshow 함수 사용, 샘플의 특성 벡터를 추출해서 28x28배열로 전환"
   ]
  },
  {
   "cell_type": "code",
   "execution_count": 5,
   "metadata": {},
   "outputs": [],
   "source": [
    "import matplotlib as mpl\n",
    "import matplotlib.pyplot as plt"
   ]
  },
  {
   "cell_type": "code",
   "execution_count": 6,
   "metadata": {},
   "outputs": [],
   "source": [
    "some_digit = X[0]\n",
    "some_digit_image = some_digit.reshape(28, 28)"
   ]
  },
  {
   "cell_type": "code",
   "execution_count": 7,
   "metadata": {},
   "outputs": [
    {
     "data": {
      "image/png": "[encoded data removed]",
      "text/plain": [
       "<Figure size 432x288 with 1 Axes>"
      ]
     },
     "metadata": {
      "needs_background": "light"
     },
     "output_type": "display_data"
    }
   ],
   "source": [
    "plt.imshow(some_digit_image, cmap=\"binary\")\n",
    "plt.axis(\"off\")\n",
    "plt.show()"
   ]
  },
  {
   "cell_type": "code",
   "execution_count": 8,
   "metadata": {},
   "outputs": [
    {
     "data": {
      "text/plain": [
       "'5'"
      ]
     },
     "execution_count": 8,
     "metadata": {},
     "output_type": "execute_result"
    }
   ],
   "source": [
    "y[0] #실제 레이블"
   ]
  },
  {
   "cell_type": "code",
   "execution_count": 9,
   "metadata": {},
   "outputs": [],
   "source": [
    "y = y.astype(np.uint8) #레이블이 문자열이므로 정수로 변환"
   ]
  },
  {
   "cell_type": "code",
   "execution_count": 10,
   "metadata": {},
   "outputs": [],
   "source": [
    "X_train, X_test, y_train, y_test = X[:60000], X[60000:], y[:60000], y[60000:] #MINST 데이터셋은 이미 훈련 테스트로 나눠져있으므로"
   ]
  },
  {
   "cell_type": "markdown",
   "metadata": {},
   "source": [
    "**데이터셋을 섞는 기준**<br>\n",
    "훈련세트를 만들 때 모든 데이터가 고루 섞여있어서 모든 교차 검증 폴드를 비슷하게 만들어야 함<br>\n",
    "심지어 어떤 학습 알고리즘은 훈련 샘플의 순서에 민감해서 많은 비슷한 샘플이 연이어 나타나면 성능이 나빠짐<br>\n",
    "그러므로 데이터셋을 섞어서 이런 현상 방지<br>\n",
    "**but 시계열 데이터 같은 경우 이렇게 섞는 것은 좋지 않음**"
   ]
  },
  {
   "cell_type": "markdown",
   "metadata": {},
   "source": [
    "### 3.2 이진 분류기 훈련\n",
    "**이진 분류기(Binary classifier) = Yes or No 두개의 클래스 구분**<br>\n",
    "이 챕터에서는 '5 감지기'가 목표 = 5 or not 5"
   ]
  },
  {
   "cell_type": "code",
   "execution_count": 11,
   "metadata": {},
   "outputs": [],
   "source": [
    "y_train_5 = (y_train == 5)\n",
    "y_test_5 = (y_test == 5)"
   ]
  },
  {
   "cell_type": "markdown",
   "metadata": {},
   "source": [
    "**- 사용할 분류 모델 : 사이킷런의 SGDClassifiter**<br>\n",
    "<br>\n",
    "**확률적 경사 하강법(Stochastic Gradient Descent, SGD)**<br>\n",
    "매우 큰 데이터셋을 효율적으로 처리, 한 번에 하나씩 훈련 샘플을 독립적으로 처리 >> 온라인 학습에 잘 맞음<br>\n",
    "확률적이라는 이름처럼 훈련할때 무작위성을 사용 >> 그러므로 random_state 매개변수를 지정해야함"
   ]
  },
  {
   "cell_type": "code",
   "execution_count": 12,
   "metadata": {},
   "outputs": [
    {
     "data": {
      "text/plain": [
       "SGDClassifier(random_state=42)"
      ]
     },
     "execution_count": 12,
     "metadata": {},
     "output_type": "execute_result"
    }
   ],
   "source": [
    "from sklearn.linear_model import SGDClassifier\n",
    "\n",
    "sgd_clf = SGDClassifier(random_state=42)\n",
    "sgd_clf.fit(X_train, y_train_5)"
   ]
  },
  {
   "cell_type": "code",
   "execution_count": 13,
   "metadata": {},
   "outputs": [
    {
     "data": {
      "text/plain": [
       "array([ True])"
      ]
     },
     "execution_count": 13,
     "metadata": {},
     "output_type": "execute_result"
    }
   ],
   "source": [
    "sgd_clf.predict([some_digit])"
   ]
  },
  {
   "cell_type": "markdown",
   "metadata": {},
   "source": [
    "predict로 감지했을 때 이 이미지가 5를 나타냇다고 추측"
   ]
  },
  {
   "cell_type": "markdown",
   "metadata": {},
   "source": [
    "### 3.3 성능 측정<br>\n",
    "### 3.3.1 교차 검증을 사용한 정확도 측정\n",
    "사이킷런이 제공하는 것보다 더 많이 교차 검증 과정을 제어할 경우 교차 검증 기능 구현이 필요<br>\n",
    "아래 코드는 사이킷런의 **cross_val_score()** 함수와 거의 같은 작업 수행"
   ]
  },
  {
   "cell_type": "code",
   "execution_count": 14,
   "metadata": {},
   "outputs": [
    {
     "name": "stdout",
     "output_type": "stream",
     "text": [
      "0.9669\n",
      "0.91625\n",
      "0.96785\n"
     ]
    }
   ],
   "source": [
    "from sklearn.model_selection import StratifiedKFold\n",
    "from sklearn.base import clone\n",
    "\n",
    "skfolds = StratifiedKFold(n_splits=3, random_state=42, shuffle=True)\n",
    "\n",
    "for train_index, test_index in skfolds.split(X_train, y_train_5) :\n",
    "    clone_clf = clone(sgd_clf)\n",
    "    X_train_folds = X_train[train_index]\n",
    "    y_train_folds = y_train_5[train_index]\n",
    "    X_test_fold = X_train[test_index]\n",
    "    y_test_fold = y_train_5[test_index]\n",
    "    \n",
    "    clone_clf.fit(X_train_folds, y_train_folds)\n",
    "    y_pred = clone_clf.predict(X_test_fold)\n",
    "    n_correct = sum(y_pred == y_test_fold)\n",
    "    print(n_correct / len(y_pred))"
   ]
  },
  {
   "cell_type": "markdown",
   "metadata": {},
   "source": [
    "**StratifiedKFold** = 계층적 샘플링 수행<br>\n",
    "매 반복에서 분류기 객체를 복제하여 훈련폴드로 훈련시키고 테스트 폴드로 예측을 만듦<br>>> 올바른 예측의 수를 세어 정확한 예측의 비율 출력"
   ]
  },
  {
   "cell_type": "markdown",
   "metadata": {},
   "source": [
    "**cross_val_scare()** 함수로 폴드가 3개인 KFold 교차 검증을 사용하여 **SGDClassifier** 모델 평가<br>\n",
    "k=3이며, 각 폴드에 대해 예측을 만들고 평가하기 위해 나머지 폴드로 훈련시킨 모델 사용"
   ]
  },
  {
   "cell_type": "code",
   "execution_count": 15,
   "metadata": {},
   "outputs": [
    {
     "data": {
      "text/plain": [
       "array([0.95035, 0.96035, 0.9604 ])"
      ]
     },
     "execution_count": 15,
     "metadata": {},
     "output_type": "execute_result"
    }
   ],
   "source": [
    "from sklearn.model_selection import cross_val_score\n",
    "cross_val_score(sgd_clf, X_train, y_train_5, cv=3, scoring=\"accuracy\")"
   ]
  },
  {
   "cell_type": "markdown",
   "metadata": {},
   "source": [
    "**'not 5'클래스로 분류하는 더미 분류기 만들기**"
   ]
  },
  {
   "cell_type": "code",
   "execution_count": 16,
   "metadata": {},
   "outputs": [],
   "source": [
    "from sklearn.base import BaseEstimator\n",
    "\n",
    "class Never5Classifier(BaseEstimator) :\n",
    "    def fit(self, X, y=None) :\n",
    "        return self\n",
    "    def predict(self, X) :\n",
    "        return np.zeros((len(X),1),dtype=bool)"
   ]
  },
  {
   "cell_type": "code",
   "execution_count": 17,
   "metadata": {},
   "outputs": [
    {
     "data": {
      "text/plain": [
       "array([0.91125, 0.90855, 0.90915])"
      ]
     },
     "execution_count": 17,
     "metadata": {},
     "output_type": "execute_result"
    }
   ],
   "source": [
    "never_5_clf = Never5Classifier()\n",
    "cross_val_score(never_5_clf, X_train, y_train_5, cv=3, scoring=\"accuracy\")"
   ]
  },
  {
   "cell_type": "markdown",
   "metadata": {},
   "source": [
    "이 예제는 불균형한 데이터셋을 다룰때(어떤 클래스가 다른 것보다 월등히 많은 경우) 정확도를 분류기의 성능 측정 지표로 선호하지 않은 이유를 보여줌<br>\n",
    "**5가 아님인 숫자가 90%** 이므로 정확도로 모델의 성능을 알 수 없음(10개중 9개가 원하는거니까 높은 성능으로 나옴)"
   ]
  },
  {
   "cell_type": "markdown",
   "metadata": {},
   "source": [
    "### 3.3.2 오차 행렬\n",
    "**오차 행렬(Confusion matrix)**<br>\n",
    "클래스 A의 샘플를 클래스 B로 분류된 횟수를 세는 것<br>\n",
    "예) 숫자 5의 이미지를 3으로 잘못 분류한 횟수 = 오차행렬의 5행 3열을 보면 됨<br>\n",
    "- 오차 행렬의 행 = 실제 클래스<br>\n",
    "- 오차 행렬의 열 = 예측한 클래스<br>"
   ]
  },
  {
   "cell_type": "markdown",
   "metadata": {},
   "source": [
    "**cross_val_predict**으로 오차 행렬 작성 >> test세트로 확인<br>\n",
    "- cross_val_predict : k겹 교차검증 진행 >> 각 테스트 폴드에서 얻은 예측 반환<br>\n",
    "- cross_val_score : k겹 교차 검증 진행 >> 각 테스트 폴드의 예측을 평가 점수로 반환<br> "
   ]
  },
  {
   "cell_type": "code",
   "execution_count": 18,
   "metadata": {},
   "outputs": [
    {
     "data": {
      "text/plain": [
       "array([[53892,   687],\n",
       "       [ 1891,  3530]], dtype=int64)"
      ]
     },
     "execution_count": 18,
     "metadata": {},
     "output_type": "execute_result"
    }
   ],
   "source": [
    "from sklearn.model_selection import cross_val_predict\n",
    "\n",
    "y_train_pred = cross_val_predict(sgd_clf, X_train, y_train_5, cv=3)\n",
    "\n",
    "#confusion_matrix()함수로 오차행렬 만들기(타겟 클래스 = y_train_5, 예측 클래스 = y_train_pred)\n",
    "from sklearn.metrics import confusion_matrix\n",
    "confusion_matrix(y_train_5, y_train_pred)"
   ]
  },
  {
   "cell_type": "markdown",
   "metadata": {},
   "source": [
    "|분류|not 5|5|\n",
    "|:-----:|:-----:|:-----:|\n",
    "|**not 5**| 진짜 음성(TN)|거짓양성(FP)|\n",
    "|**5**| 거짓 음성(FN)|진짜 양성(TP)|\n",
    "\n",
    "\n",
    "\n",
    "**진짜 음성, Ture negative** = 'not 5'를 'not 5'(음성 클래스,negative class)로 분류된 것<br>\n",
    "**거짓 양성, False positive** = 'not 5'를 '5'로 분류된 것<br>\n",
    "**거짓 음성, False negative** = '5'를 'not 5'로 분류된 것<br>\n",
    "**진짜 양성, Ture positive** = '5'를 '5'로 분류된 것<br>\n",
    "- 완변한 분류기 = 주 대각선 값만 0이 아닌 값 = 주 대각선만 값, 나머지는 0"
   ]
  },
  {
   "cell_type": "code",
   "execution_count": 19,
   "metadata": {},
   "outputs": [
    {
     "data": {
      "text/plain": [
       "array([[54579,     0],\n",
       "       [    0,  5421]], dtype=int64)"
      ]
     },
     "execution_count": 19,
     "metadata": {},
     "output_type": "execute_result"
    }
   ],
   "source": [
    "y_train_perfect_predictions= y_train_5 #완벽한 분류기인 경우\n",
    "confusion_matrix(y_train_5,y_train_perfect_predictions)"
   ]
  },
  {
   "cell_type": "markdown",
   "metadata": {},
   "source": [
    "**정밀도(Precision)** = 양성 예측의 정확도<br>\n",
    "<br>\n",
    "$ 정밀도 =  \\frac{TP}{TP+FP}$<br><br>\n",
    "**재현율(민감도, 진짜 양성 비율,Recall,Sensitivity, True positive rate)** = 분류기가 정확하게 감지한 양성 샘플의 비율<br><br>\n",
    "$ 재현율 =  \\frac{TP}{TP+FN}$<br>"
   ]
  },
  {
   "cell_type": "markdown",
   "metadata": {},
   "source": [
    "### 3.3.3 정밀도와 재현율"
   ]
  },
  {
   "cell_type": "code",
   "execution_count": 20,
   "metadata": {},
   "outputs": [
    {
     "data": {
      "text/plain": [
       "0.8370879772350012"
      ]
     },
     "execution_count": 20,
     "metadata": {},
     "output_type": "execute_result"
    }
   ],
   "source": [
    "from sklearn.metrics import precision_score,recall_score\n",
    "precision_score(y_train_5, y_train_pred)"
   ]
  },
  {
   "cell_type": "code",
   "execution_count": 21,
   "metadata": {},
   "outputs": [
    {
     "data": {
      "text/plain": [
       "0.6511713705958311"
      ]
     },
     "execution_count": 21,
     "metadata": {},
     "output_type": "execute_result"
    }
   ],
   "source": [
    "recall_score(y_train_5,y_train_pred)"
   ]
  },
  {
   "cell_type": "markdown",
   "metadata": {},
   "source": [
    "$F_1$**점수** = 정밀도와 재현율의 조화평균(Harmonic mean)<br><br>\n",
    "$$F_1 = \\frac{2}{\\frac{1}{정밀도}+\\frac{1}{재현율}}=2\\times{\\frac{{정밀도}\\times{재현율}}{{정밀도}+{재현율}}}=\\frac{TP}{TP+\\frac{FN+FP}{2}}$$<br>"
   ]
  },
  {
   "cell_type": "code",
   "execution_count": 22,
   "metadata": {},
   "outputs": [
    {
     "data": {
      "text/plain": [
       "0.7325171197343846"
      ]
     },
     "execution_count": 22,
     "metadata": {},
     "output_type": "execute_result"
    }
   ],
   "source": [
    "from sklearn.metrics import f1_score\n",
    "f1_score(y_train_5,y_train_pred)"
   ]
  },
  {
   "cell_type": "markdown",
   "metadata": {},
   "source": [
    "### 3.3.4 정밀도/재현율 트레이드오프\n",
    "$F_1$점수의 정밀도와 재현율의 비율을 분석 목적에 맞게 조정하는 게 필요 = 정밀도/재현율 트레이드오프<br>\n",
    "- 어린이용 동영상 분류기 = 좋은 동영상이 많이 제거(낮은 재현율)되더라도 안전한 것만 노출(높은 정밀도)<br>\n",
    "- 카메라 이미지로 도둑 분류기 = 정밀도를 낮춰서라도 재현율 높여야함(잘못된 경비원 호출이 많더라도 좀도둑을 최대한 잡아야함)<br>"
   ]
  },
  {
   "cell_type": "markdown",
   "metadata": {},
   "source": [
    "**SGDCLassifier** = **결정함수(Decision function)** 로 각 샘플의 점수를 계산<br>\n",
    "점수가 임계값을 넘으면 양성, 낮으면 음성을 할당 >> sklearn에서 점수 직접 지정 불가<br>\n",
    "->> 예측에 사용한 점수를 decision function으로 호출하여 점수 기반으로 임계값을 정해 예측을 만듦"
   ]
  },
  {
   "cell_type": "code",
   "execution_count": 23,
   "metadata": {},
   "outputs": [
    {
     "data": {
      "text/plain": [
       "array([2164.22030239])"
      ]
     },
     "execution_count": 23,
     "metadata": {},
     "output_type": "execute_result"
    }
   ],
   "source": [
    "y_scores = sgd_clf.decision_function([some_digit])\n",
    "y_scores"
   ]
  },
  {
   "cell_type": "code",
   "execution_count": 24,
   "metadata": {},
   "outputs": [
    {
     "data": {
      "text/plain": [
       "array([ True])"
      ]
     },
     "execution_count": 24,
     "metadata": {},
     "output_type": "execute_result"
    }
   ],
   "source": [
    "threshold = 0 #임계값 0\n",
    "y_some_digit_pred = (y_scores > threshold)\n",
    "y_some_digit_pred"
   ]
  },
  {
   "cell_type": "code",
   "execution_count": 25,
   "metadata": {},
   "outputs": [
    {
     "data": {
      "text/plain": [
       "array([False])"
      ]
     },
     "execution_count": 25,
     "metadata": {},
     "output_type": "execute_result"
    }
   ],
   "source": [
    "threshold = 8000 #임계값 8000\n",
    "y_some_digit_pred = (y_scores > threshold)\n",
    "y_some_digit_pred"
   ]
  },
  {
   "cell_type": "code",
   "execution_count": 26,
   "metadata": {},
   "outputs": [],
   "source": [
    "#적절한 임계값 구하기\n",
    "#1.훈련 세트에 있는 모든 샘플의 점수 구하기 >> 예측 결과x, 결정 점수를 반환받아야함\n",
    "y_scores = cross_val_predict(sgd_clf, X_train, y_train_5, cv = 3, method=\"decision_function\")"
   ]
  },
  {
   "cell_type": "code",
   "execution_count": 27,
   "metadata": {},
   "outputs": [
    {
     "data": {
      "image/png": "[encoded data removed]",
      "text/plain": [
       "<Figure size 432x288 with 1 Axes>"
      ]
     },
     "metadata": {
      "needs_background": "light"
     },
     "output_type": "display_data"
    }
   ],
   "source": [
    "#2.precision_recall_curve()로 가능한 모든 임계값에 대해 정밀도와 재현율 계산\n",
    "from sklearn.metrics import precision_recall_curve\n",
    "\n",
    "precisions, recalls, thresholds = precision_recall_curve(y_train_5, y_scores)\n",
    "\n",
    "#그래프로 그리기\n",
    "def plot_precision_recall_vs_threshold(precisions, recalls, thresholds) :\n",
    "    plt.plot(thresholds, precisions[:-1],\"b--\",label='precision')\n",
    "    plt.plot(thresholds, recalls[:-1], \"g--\", label='recall')\n",
    "    plt.legend() #임계값을 표시하고 범례, 축이름, 그리드 추가\n",
    "    \n",
    "plot_precision_recall_vs_threshold(precisions,recalls,thresholds)\n",
    "plt.show()"
   ]
  },
  {
   "cell_type": "code",
   "execution_count": 28,
   "metadata": {},
   "outputs": [
    {
     "data": {
      "image/png": "[encoded data removed]",
      "text/plain": [
       "<Figure size 432x288 with 1 Axes>"
      ]
     },
     "metadata": {
      "needs_background": "light"
     },
     "output_type": "display_data"
    }
   ],
   "source": [
    "#좋은 트레이드 오프를 선택하려면 재현율에 대한 정밀도 곡선 그리기\n",
    "def plot_precision_vs_recall(precisions, recalls):\n",
    "    plt.plot(recalls, precisions, \"b-\", linewidth=2)\n",
    "\n",
    "plot_precision_vs_recall(precisions, recalls)\n",
    "plt.show()"
   ]
  },
  {
   "cell_type": "markdown",
   "metadata": {},
   "source": [
    "재현율 80%부터 급격히 감소함을 알 수 있음 >> 이 하강점 직전을 트레이드오프로 선택하는 것이 좋음(프로젝트에 따라서 다름)"
   ]
  },
  {
   "cell_type": "code",
   "execution_count": 29,
   "metadata": {},
   "outputs": [
    {
     "data": {
      "text/plain": [
       "0.9000345901072293"
      ]
     },
     "execution_count": 29,
     "metadata": {},
     "output_type": "execute_result"
    }
   ],
   "source": [
    "#If 정밀도 90% 달성이 목표일 때, 임계값 구하기\n",
    "#np.argmax = 최대값의 첫번째 인덱스 반환 = 첫번째 ture 값 반환\n",
    "threshold_90_precision = thresholds[np.argmax(precisions >= 0.90)]\n",
    "\n",
    "#훈련세트에 대한 예측\n",
    "y_train_pred_90 = (y_scores >= threshold_90_precision)\n",
    "\n",
    "#정밀도\n",
    "precision_score(y_train_5, y_train_pred_90)"
   ]
  },
  {
   "cell_type": "code",
   "execution_count": 30,
   "metadata": {},
   "outputs": [
    {
     "data": {
      "text/plain": [
       "0.4799852425751706"
      ]
     },
     "execution_count": 30,
     "metadata": {},
     "output_type": "execute_result"
    }
   ],
   "source": [
    "#재현율\n",
    "recall_score(y_train_5, y_train_pred_90)"
   ]
  },
  {
   "cell_type": "markdown",
   "metadata": {},
   "source": [
    "### 3.3.5 ROC 곡선\n",
    "**수신기 조작 특성(Receiver operating characteristic,ROC)**<br>\n",
    "= 거짓 양성 비율(False positive rate,FPR)에 대한 진짜 양성 비율(Ture positive rate, TPR)의 곡선<br>\n",
    "= 재현율(민감도)에 대한 1-특이도 그래프\n",
    "- 거짓 양성 비율(FPR) =  1-진짜 음성 비율(특이도, Ture negative rate, TNR, Specificity)<br>\n",
    "$$FPR = \\frac{FP}{FP+TN} = \\frac{FP+TN-TN}{FP+TN} = 1-\\frac{TN}{FP+TN} = 1-TNR$$"
   ]
  },
  {
   "cell_type": "code",
   "execution_count": 31,
   "metadata": {},
   "outputs": [],
   "source": [
    "from sklearn.metrics import roc_curve\n",
    "\n",
    "fpr, tpr, thresholds = roc_curve(y_train_5, y_scores)"
   ]
  },
  {
   "cell_type": "code",
   "execution_count": 32,
   "metadata": {},
   "outputs": [
    {
     "data": {
      "image/png": "[encoded data removed]",
      "text/plain": [
       "<Figure size 432x288 with 1 Axes>"
      ]
     },
     "metadata": {
      "needs_background": "light"
     },
     "output_type": "display_data"
    }
   ],
   "source": [
    "def plot_roc_curve(fpr, tpr, label = None) :\n",
    "    plt.plot(fpr, tpr, linewidth=2, label=label)\n",
    "    plt.plot([0,1],[0,1],'k--') #대각점선\n",
    "    \n",
    "plot_roc_curve(fpr,tpr)\n",
    "plt.show()"
   ]
  },
  {
   "cell_type": "markdown",
   "metadata": {},
   "source": [
    "**ROC 곡선의 트레이드오프**<br>\n",
    "점섬 = 완전한 랜덤 분류기의 ROC 곡선 >> 좋은 분류기는 점섬에서 최대한 왼쪽으로 멀어야함<br>\n",
    "재현율(TPR)니 높을수록 거짓양성(FPR) 상승<br>\n",
    "**곡선 아래의 면적(area under the curve,AUC)** 측정으로 분류기 비교<br>\n",
    "- ROC의 AUC = 1 : 완벽한 분류기\n",
    "- ROC의 AUC = 0.5 : 완전한 랜덤 분류기(의미없는 완전한 랜덤 상태)"
   ]
  },
  {
   "cell_type": "markdown",
   "metadata": {},
   "source": [
    "**PR곡선과 ROC곡선**\n",
    "- PR곡선 = 양성 클래스가 드물거나, 거짓 음성보다 거짓 양성이 더 중요할 경우\n",
    "- ROC곡선 = PR곡선과 반대<br>\n",
    "= 5 or not 5의 경우 PR곡선이 분류기 성능판단에 더 적절함"
   ]
  },
  {
   "cell_type": "code",
   "execution_count": 33,
   "metadata": {},
   "outputs": [
    {
     "data": {
      "text/plain": [
       "0.9604938554008616"
      ]
     },
     "execution_count": 33,
     "metadata": {},
     "output_type": "execute_result"
    }
   ],
   "source": [
    "from sklearn.metrics import roc_auc_score\n",
    "roc_auc_score(y_train_5, y_scores)"
   ]
  },
  {
   "cell_type": "markdown",
   "metadata": {},
   "source": [
    "### **RandomForestClassifier**과 비교하기"
   ]
  },
  {
   "cell_type": "code",
   "execution_count": 34,
   "metadata": {},
   "outputs": [],
   "source": [
    "from sklearn.ensemble import RandomForestClassifier\n",
    "\n",
    "forest_clf = RandomForestClassifier(random_state=42)\n",
    "y_probas_forest = cross_val_predict(forest_clf, X_train, y_train_5, cv=3, method=\"predict_proba\")\n",
    "#Randomforestclassifier은 decision_function 없고 predict_proba()사용\n",
    "#predict_proba = 샘픔이 행, 클래스가 열이고 샘플이 주어진 클래스에 속할 확률을 담은 배열 반환"
   ]
  },
  {
   "cell_type": "code",
   "execution_count": 35,
   "metadata": {},
   "outputs": [],
   "source": [
    "y_scores_forest = y_probas_forest[:,1]#양성 클래스 확률을 점수로 활용\n",
    "fpr_forest, tpr_forest, thresholds_forest = roc_curve(y_train_5, y_scores_forest)"
   ]
  },
  {
   "cell_type": "code",
   "execution_count": 37,
   "metadata": {},
   "outputs": [
    {
     "data": {
      "image/png": "[encoded data removed]",
      "text/plain": [
       "<Figure size 432x288 with 1 Axes>"
      ]
     },
     "metadata": {
      "needs_background": "light"
     },
     "output_type": "display_data"
    }
   ],
   "source": [
    "plt.plot(fpr, tpr, \"b:\", label=\"SGD\")\n",
    "plot_roc_curve(fpr_forest, tpr_forest,\"Random forest\")\n",
    "plt.legend(loc = \"lower right\")\n",
    "plt.show()"
   ]
  },
  {
   "cell_type": "code",
   "execution_count": 38,
   "metadata": {},
   "outputs": [
    {
     "data": {
      "text/plain": [
       "0.9983436731328145"
      ]
     },
     "execution_count": 38,
     "metadata": {},
     "output_type": "execute_result"
    }
   ],
   "source": [
    "roc_auc_score(y_train_5, y_scores_forest)"
   ]
  },
  {
   "cell_type": "markdown",
   "metadata": {},
   "source": [
    "SGC보다 Randomforest가 더 나음 모델임을 확인 가능(ROC AUC 점수(0.96)도 더 높음)"
   ]
  },
  {
   "cell_type": "markdown",
   "metadata": {},
   "source": [
    "### 3.4 다중 분류"
   ]
  },
  {
   "cell_type": "code",
   "execution_count": null,
   "metadata": {},
   "outputs": [],
   "source": []
  }
 ],
 "metadata": {
  "kernelspec": {
   "display_name": "Python 3",
   "language": "python",
   "name": "python3"
  },
  "language_info": {
   "codemirror_mode": {
    "name": "ipython",
    "version": 3
   },
   "file_extension": ".py",
   "mimetype": "text/x-python",
   "name": "python",
   "nbconvert_exporter": "python",
   "pygments_lexer": "ipython3",
   "version": "3.8.5"
  }
 },
 "nbformat": 4,
 "nbformat_minor": 4
}
