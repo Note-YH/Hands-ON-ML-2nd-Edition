{
  "nbformat": 4,
  "nbformat_minor": 0,
  "metadata": {
    "kernelspec": {
      "display_name": "Python 3",
      "language": "python",
      "name": "python3"
    },
    "language_info": {
      "codemirror_mode": {
        "name": "ipython",
        "version": 3
      },
      "file_extension": ".py",
      "mimetype": "text/x-python",
      "name": "python",
      "nbconvert_exporter": "python",
      "pygments_lexer": "ipython3",
      "version": "3.8.5"
    },
    "colab": {
      "name": "Chapter08.ipynb",
      "provenance": []
    }
  },
  "cells": [
    {
      "cell_type": "markdown",
      "metadata": {
        "id": "KMMuTDjaR4LL"
      },
      "source": [
        "### 08. 차원축소\n",
        "- - -\n",
        "특성의 수 많음 >> 차원의 저주(Curse of dimensionality) >> 차원 축소를 통해 잡음이나 불필요한 세부 내용 제거<br>\n",
        "차원 축소 = 시각화에도 유리"
      ]
    },
    {
      "cell_type": "markdown",
      "metadata": {
        "id": "b9UHW_fmR4LQ"
      },
      "source": [
        "### 8.1 차원의 저주\n",
        "차원이 크다 = 과적합의 위험, 예측의 불안정<br>\n",
        "이론 : 훈련샘플의 밀도가 충분히 높아질 때까지 훈련 세트의 크기를 키우는 것 but 훈련 샘플을 수는 차원 수에 따라 기하급수적으로 늘어남<br>"
      ]
    },
    {
      "cell_type": "markdown",
      "metadata": {
        "id": "GSyg-4EaR4LR"
      },
      "source": [
        "### 8.2 차원 축소를 위한 접근 방법\n",
        "차원 감소시키는 접근법 = **투영(projection)과 매니폴드 학습**\n",
        "### 8.2.1 투영\n",
        "![projection](https://github.com/Note-YH/Hands-ON-ML-2nd-Edition/blob/main/img/projection.png?raw=1)<br>\n",
        "훈련 샘플이 거의 평면 형태로 위치 >> 저차원의 부분공간으로 모든 데이터 수직으로 투영<br>\n",
        "![projection_2D](https://github.com/Note-YH/Hands-ON-ML-2nd-Edition/blob/main/img/projction_2D.png?raw=1)<br>\n",
        "2차원의 데이터셋으로 투영가능<br>\n",
        "![Swiss_Roll](https://github.com/Note-YH/Hands-ON-ML-2nd-Edition/blob/main/img/Siwss_Roll.png?raw=1)<br>\n",
        "스위스롤 >> 평면으로 투영 불가능<br>\n",
        "![Swiss_Roll](https://github.com/Note-YH/Hands-ON-ML-2nd-Edition/blob/main/img/Siwss_Roll_squashing.png?raw=1)<br>\n",
        "롤을 펼쳐서 투영([왼] 평면 투영 [오] 펼쳐서 투영)\n",
        "\n"
      ]
    },
    {
      "cell_type": "markdown",
      "metadata": {
        "id": "9mfh8iRuVUVo"
      },
      "source": [
        "### 8.2.2 매니폴드 학습\r\n",
        "**매니폴드(Manifold learning)** : 매니폴드를 모델링하여 차원 축소 >> 대부분 고차원 데이터셋이 더 낮은 저차원 매니폴드에 가까게 놓여 있다는 매니폴드 가정에 근거<br>\r\n",
        "(+) 추가 가정 : 처리할 작업이 저차원에서 더 간단해짐\r\n",
        "$d$차원 매니폴드는 국부적으로 $d$차원 초평면으로 보일 수 이쓴 n차원 공간의 일부($d<n$)<br>\r\n",
        "스위스롤을 펼치는 것 >> 매니폴드의 대표적인 예($d=2, n=3$)\r\n",
        "![Decion boundary](https://github.com/Note-YH/Hands-ON-ML-2nd-Edition/blob/main/img/Decision_boundary_Manifold.png?raw=1)<br>\r\n",
        "- 위 : 3차원에서 복잡 >> 2차원에서 결정경계 간단\r\n",
        "- 아래 : 3차원에서 간단 >> 2차원에서 결정결계 복잡<br>\r\n",
        "= 항상 매니폴드가 유의미 하지는 않음 >> 데이터셋에 달려있음"
      ]
    },
    {
      "cell_type": "markdown",
      "metadata": {
        "id": "BVsWAhwnXU2P"
      },
      "source": [
        "### 8.3 PCA\r\n",
        "주성분분석(PCA, principal component analysis) : 데이터의 가장 가까운 초평면(Hyperplane)을 정의 후 데이터를 평면에 투영\r\n",
        "### 8.3.1 분산보존 "
      ]
    },
    {
      "cell_type": "code",
      "metadata": {
        "id": "jCXUBpzFVPJj"
      },
      "source": [
        ""
      ],
      "execution_count": null,
      "outputs": []
    }
  ]
}