{
 "cells": [
  {
   "cell_type": "markdown",
   "metadata": {},
   "source": [
    "### 08. 차원축소\n",
    "- - -\n",
    "특성의 수 많음 >> 차원의 저주(Curse of dimensionality) >> 차원 축소를 통해 잡음이나 불필요한 세부 내용 제거<br>\n",
    "차원 축소 = 시각화에도 유리"
   ]
  },
  {
   "cell_type": "markdown",
   "metadata": {},
   "source": [
    "### 8.1 차원의 저주\n",
    "차원이 크다 = 과적합의 위험, 예측의 불안정<br>\n",
    "이론 : 훈련샘플의 밀도가 충분히 높아질 때까지 훈련 세트의 크기를 키우는 것 but 훈련 샘플을 수는 차원 수에 따라 기하급수적으로 늘어남<br>"
   ]
  },
  {
   "cell_type": "markdown",
   "metadata": {},
   "source": [
    "### 8.2 차원 축소를 위한 접근 방법\n",
    "차원 감소시키는 접근법 = **투영(projection)과 매니폴드 학습**\n",
    "### 8.2.1 투영\n"
   ]
  }
 ],
 "metadata": {
  "kernelspec": {
   "display_name": "Python 3",
   "language": "python",
   "name": "python3"
  },
  "language_info": {
   "codemirror_mode": {
    "name": "ipython",
    "version": 3
   },
   "file_extension": ".py",
   "mimetype": "text/x-python",
   "name": "python",
   "nbconvert_exporter": "python",
   "pygments_lexer": "ipython3",
   "version": "3.8.5"
  }
 },
 "nbformat": 4,
 "nbformat_minor": 4
}
