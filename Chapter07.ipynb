{
 "cells": [
  {
   "cell_type": "markdown",
   "metadata": {},
   "source": [
    "### 07. 앙상블 학습과 랜덤 포레스트\n",
    "- - -\n",
    "- **앙상블학습(Ensemble learning)** = 일련의 예측기\n",
    "- **앙상블방법(Ensemble method)** = 앙상블 학습 알고리즘<br>"
   ]
  },
  {
   "cell_type": "code",
   "execution_count": 4,
   "metadata": {},
   "outputs": [],
   "source": [
    "import numpy as np\n",
    "import os\n",
    "\n",
    "%matplotlib inline\n",
    "import matplotlib as mpl\n",
    "import matplotlib.pyplot as plt\n",
    "mpl.rc('axes', labelsize=14)\n",
    "mpl.rc('xtick', labelsize=12)\n",
    "mpl.rc('ytick', labelsize=12)\n",
    "\n",
    "PROJECT_ROOT_DIR = \".\"\n",
    "CHAPTER_ID = \"ensembles\"\n",
    "IMAGES_PATH = os.path.join(PROJECT_ROOT_DIR, \"images\", CHAPTER_ID)\n",
    "os.makedirs(IMAGES_PATH, exist_ok=True)\n",
    "\n",
    "def save_fig(fig_id, tight_layout=True, fig_extension=\"png\", resolution=300):\n",
    "    path = os.path.join(IMAGES_PATH, fig_id + \".\" + fig_extension)\n",
    "    print(\"그림 저장:\", fig_id)\n",
    "    if tight_layout:\n",
    "        plt.tight_layout()\n",
    "    plt.savefig(path, format=fig_extension, dpi=resolution)"
   ]
  },
  {
   "cell_type": "markdown",
   "metadata": {},
   "source": [
    "### 7.1 투표 기반 분류기\n",
    "**각기 다른 분류기로 다양한 분류기 만들기**\n",
    "- 직접투표(hard votinng) : 각 분류기의 예측을 모아서 가장 많이 선택된 클래스 예측<br>\n",
    "    ㄴ 각 분류기가 약한 학습기일지라도 충분히 많고 다양하면 강한 학습기가 됨(단, 모든 분류기가 독립이고 오차에 상관관계가 없어야함)\n",
    "- 간접투표(soft voting) : 각 분류기의 예측을 평균내어 확률이 가장 높은 클래스를 예측 >> 직접보다 성능 우수<br>\n",
    "    ㄴ 단, SVC 클래스 확률을 제공하지 않기 때문에 probability매개변수를 True 지정해야함<br>\n",
    "- predict_proba() = 모델의 클래스 확률 예측 >> 모든 분류기가 메서드 사용가능하면 = 간접투표 가능 \n"
   ]
  },
  {
   "cell_type": "code",
   "execution_count": 2,
   "metadata": {},
   "outputs": [],
   "source": [
    "from sklearn.model_selection import train_test_split\n",
    "from sklearn.datasets import make_moons\n",
    "\n",
    "X, y = make_moons(n_samples=500, noise=0.30, random_state=42)\n",
    "X_train, X_test, y_train, y_test = train_test_split(X, y, random_state=42)"
   ]
  },
  {
   "cell_type": "code",
   "execution_count": 6,
   "metadata": {},
   "outputs": [
    {
     "data": {
      "text/plain": [
       "VotingClassifier(estimators=[('lr', LogisticRegression()),\n",
       "                             ('rf', RandomForestClassifier()), ('svc', SVC())])"
      ]
     },
     "execution_count": 6,
     "metadata": {},
     "output_type": "execute_result"
    }
   ],
   "source": [
    "from sklearn.ensemble import RandomForestClassifier\n",
    "from sklearn.ensemble import VotingClassifier\n",
    "from sklearn.linear_model import LogisticRegression\n",
    "from sklearn.svm import SVC\n",
    "\n",
    "log_clf = LogisticRegression()\n",
    "rnd_clf = RandomForestClassifier()\n",
    "svm_clf = SVC()\n",
    "\n",
    "voting_clf = VotingClassifier(\n",
    "    estimators=[('lr',log_clf),('rf',rnd_clf),('svc',svm_clf)],\n",
    "    voting='hard') #voting hard = 직접 / soft = 간접\n",
    "voting_clf.fit(X_train, y_train)"
   ]
  },
  {
   "cell_type": "code",
   "execution_count": 5,
   "metadata": {},
   "outputs": [
    {
     "name": "stdout",
     "output_type": "stream",
     "text": [
      "LogisticRegression 0.864\n",
      "RandomForestClassifier 0.896\n",
      "SVC 0.896\n",
      "VotingClassifier 0.904\n"
     ]
    }
   ],
   "source": [
    "from sklearn.metrics import accuracy_score\n",
    "\n",
    "for clf in (log_clf, rnd_clf, svm_clf, voting_clf):\n",
    "    clf.fit(X_train, y_train)\n",
    "    y_pred = clf.predict(X_test)\n",
    "    print(clf.__class__.__name__, accuracy_score(y_test, y_pred))"
   ]
  },
  {
   "cell_type": "markdown",
   "metadata": {},
   "source": [
    "결과처럼 Voting이 다른 모델보다 우세함"
   ]
  },
  {
   "cell_type": "markdown",
   "metadata": {},
   "source": [
    "### 7.2 배깅과 페이스팅\n",
    "**무작위로 훈련 서브셋 구성해서 다양한 분류기 만들기**\n",
    "- 배깅(Bagging, bootstrap appregating) : 훈련세트에서 중복을 허용하여 샘플링 하는 방식 >> 한 예측기를 위해 훈련 샘플 여러번 샘플링 가능\n",
    "- 페이스팅(Pasting) : 중복을 허용하지 않고 샘플링을 하는 방식\n",
    "- 수집함수(분류) : 통계적 최빈값(Statistical mode, like hard voting)<br>\n",
    "수집함수(회귀) : 평균\n",
    "\n",
    "\n",
    "개별 예측기 = 원본 훈련세트로 훈련시킨 것보다 더 편향 됨 >> 수집 함수 통과시 편향과 분산 모두 감소<br>\n",
    "앙상블의 결과 >> 원본데이터셋으로 하나의 예측기 훈련 시킬 때보다 분산만 줄어듦(편향은 비슷)"
   ]
  },
  {
   "cell_type": "markdown",
   "metadata": {},
   "source": [
    "### 7.2.1 사이킷런의 배깅과 페이스팅"
   ]
  },
  {
   "cell_type": "code",
   "execution_count": 8,
   "metadata": {},
   "outputs": [],
   "source": [
    "from sklearn.ensemble import BaggingClassifier\n",
    "from sklearn.tree import DecisionTreeClassifier\n",
    "\n",
    "bag_clf = BaggingClassifier(\n",
    "    DecisionTreeClassifier(random_state=42), n_estimators=500,\n",
    "    max_samples=100, bootstrap=True, random_state=42) \n",
    "    #페이스팅 사용시 bootstrap=False지정 / n-jobs = 훈련및예측에 사용할 CPU 코어 수 지정 -1 지정시 가용한 모든 코어 사용\n",
    "    #Bagging의 경우, 기반 분류기가 클래스 확률 추정이 가능하면 자동으로 간접투표 방식으로 진행\n",
    "bag_clf.fit(X_train, y_train)\n",
    "y_pred = bag_clf.predict(X_test)"
   ]
  },
  {
   "cell_type": "code",
   "execution_count": 9,
   "metadata": {},
   "outputs": [
    {
     "name": "stdout",
     "output_type": "stream",
     "text": [
      "0.904\n"
     ]
    }
   ],
   "source": [
    "from sklearn.metrics import accuracy_score\n",
    "print(accuracy_score(y_test, y_pred))"
   ]
  },
  {
   "cell_type": "code",
   "execution_count": 10,
   "metadata": {},
   "outputs": [
    {
     "name": "stdout",
     "output_type": "stream",
     "text": [
      "0.856\n"
     ]
    }
   ],
   "source": [
    "tree_clf = DecisionTreeClassifier(random_state=42)\n",
    "tree_clf.fit(X_train, y_train)\n",
    "y_pred_tree = tree_clf.predict(X_test)\n",
    "print(accuracy_score(y_test, y_pred_tree))"
   ]
  },
  {
   "cell_type": "code",
   "execution_count": 11,
   "metadata": {},
   "outputs": [],
   "source": [
    "from matplotlib.colors import ListedColormap\n",
    "\n",
    "def plot_decision_boundary(clf, X, y, axes=[-1.5, 2.45, -1, 1.5], alpha=0.5, contour=True):\n",
    "    x1s = np.linspace(axes[0], axes[1], 100)\n",
    "    x2s = np.linspace(axes[2], axes[3], 100)\n",
    "    x1, x2 = np.meshgrid(x1s, x2s)\n",
    "    X_new = np.c_[x1.ravel(), x2.ravel()]\n",
    "    y_pred = clf.predict(X_new).reshape(x1.shape)\n",
    "    custom_cmap = ListedColormap(['#fafab0','#9898ff','#a0faa0'])\n",
    "    plt.contourf(x1, x2, y_pred, alpha=0.3, cmap=custom_cmap)\n",
    "    if contour:\n",
    "        custom_cmap2 = ListedColormap(['#7d7d58','#4c4c7f','#507d50'])\n",
    "        plt.contour(x1, x2, y_pred, cmap=custom_cmap2, alpha=0.8)\n",
    "    plt.plot(X[:, 0][y==0], X[:, 1][y==0], \"yo\", alpha=alpha)\n",
    "    plt.plot(X[:, 0][y==1], X[:, 1][y==1], \"bs\", alpha=alpha)\n",
    "    plt.axis(axes)\n",
    "    plt.xlabel(r\"$x_1$\", fontsize=18)\n",
    "    plt.ylabel(r\"$x_2$\", fontsize=18, rotation=0)"
   ]
  },
  {
   "cell_type": "code",
   "execution_count": 12,
   "metadata": {},
   "outputs": [
    {
     "name": "stdout",
     "output_type": "stream",
     "text": [
      "그림 저장: decision_tree_without_and_with_bagging_plot\n"
     ]
    },
    {
     "data": {
      "image/png": "[encoded data removed]",
      "text/plain": [
       "<Figure size 720x288 with 2 Axes>"
      ]
     },
     "metadata": {
      "needs_background": "light"
     },
     "output_type": "display_data"
    }
   ],
   "source": [
    "fix, axes = plt.subplots(ncols=2, figsize=(10,4), sharey=True)\n",
    "plt.sca(axes[0])\n",
    "plot_decision_boundary(tree_clf, X, y)\n",
    "plt.title(\"Decision Tree\", fontsize=14)\n",
    "plt.sca(axes[1])\n",
    "plot_decision_boundary(bag_clf, X, y)\n",
    "plt.title(\"Decision Trees with Bagging\", fontsize=14)\n",
    "plt.ylabel(\"\")\n",
    "save_fig(\"decision_tree_without_and_with_bagging_plot\")\n",
    "plt.show()"
   ]
  },
  {
   "cell_type": "markdown",
   "metadata": {},
   "source": [
    "일반 결정트리보다 배깅 결정트리가 훨씬 일반화가 잘됨 >> 편향은 그대로 / 분산만 줄임\n",
    "<br><br>\n",
    "부트스트래핑 = 각 예측기가 학습하는 서브셋에 다양성 증가 = 배깅이 페이스팅 보다 편향이 높음 대신 앙상블의 분산 감소(예측기 간의 상관관계 줄어듦)<br>\n",
    "= 일반적으로는 배깅 선호(but 둘 다 해봐야 한다)"
   ]
  },
  {
   "cell_type": "markdown",
   "metadata": {},
   "source": [
    "### 7.2.2 obb 평가\n",
    "배깅 사용 = 훈련세트의 크기만큼인 m개 샘플 선택 >> 평균적으로 각 예측기에 훈련 샘플의 63%정도만 샘플링 된다는것\n",
    "- oob(out-of-bag) : 나머지 37% 샘플 >> 예측기마다 다름<br>\n",
    "예측기 훈련 중 oob는 사용되지 않음 >> 별도의 검증세트 없이 obb로 평가 가능 = 앙상블의 평가는 각 예측기의 oob 평가의 평균<br>"
   ]
  },
  {
   "cell_type": "code",
   "execution_count": 15,
   "metadata": {},
   "outputs": [
    {
     "data": {
      "text/plain": [
       "0.904"
      ]
     },
     "execution_count": 15,
     "metadata": {},
     "output_type": "execute_result"
    }
   ],
   "source": [
    "bag_clf = BaggingClassifier(\n",
    "    DecisionTreeClassifier(),\n",
    "    n_estimators=500, bootstrap=True, n_jobs=-1, oob_score=True)\n",
    "\n",
    "bag_clf.fit(X_train,y_train)\n",
    "bag_clf.oob_score_"
   ]
  },
  {
   "cell_type": "code",
   "execution_count": 16,
   "metadata": {},
   "outputs": [
    {
     "data": {
      "text/plain": [
       "0.912"
      ]
     },
     "execution_count": 16,
     "metadata": {},
     "output_type": "execute_result"
    }
   ],
   "source": [
    "y_pred = bag_clf.predict(X_test)\n",
    "accuracy_score(y_test, y_pred)"
   ]
  },
  {
   "cell_type": "markdown",
   "metadata": {},
   "source": [
    "oob 정확도와 테스트 정확도가 유사<br>\n",
    "obb_decision_function_ 메서드로 변수 확인도 가능(훈련 샘플의 클래스 확률, 첫번쨰 훈련 샘플이 양성 확률 65.4%/음성 34.5%)"
   ]
  },
  {
   "cell_type": "code",
   "execution_count": 17,
   "metadata": {},
   "outputs": [
    {
     "data": {
      "text/plain": [
       "array([[0.34545455, 0.65454545],\n",
       "       [0.30769231, 0.69230769],\n",
       "       [1.        , 0.        ],\n",
       "       [0.        , 1.        ],\n",
       "       [0.        , 1.        ],\n",
       "       [0.10326087, 0.89673913],\n",
       "       [0.4009901 , 0.5990099 ],\n",
       "       [0.01886792, 0.98113208],\n",
       "       [0.97826087, 0.02173913],\n",
       "       [1.        , 0.        ],\n",
       "       [0.72774869, 0.27225131],\n",
       "       [0.        , 1.        ],\n",
       "       [0.75595238, 0.24404762],\n",
       "       [0.89759036, 0.10240964],\n",
       "       [0.93922652, 0.06077348],\n",
       "       [0.07608696, 0.92391304],\n",
       "       [0.00520833, 0.99479167],\n",
       "       [0.98445596, 0.01554404],\n",
       "       [0.95454545, 0.04545455],\n",
       "       [0.99375   , 0.00625   ],\n",
       "       [0.02702703, 0.97297297],\n",
       "       [0.28877005, 0.71122995],\n",
       "       [0.92783505, 0.07216495],\n",
       "       [1.        , 0.        ],\n",
       "       [0.97790055, 0.02209945],\n",
       "       [0.        , 1.        ],\n",
       "       [1.        , 0.        ],\n",
       "       [1.        , 0.        ],\n",
       "       [0.        , 1.        ],\n",
       "       [0.645     , 0.355     ],\n",
       "       [0.        , 1.        ],\n",
       "       [1.        , 0.        ],\n",
       "       [0.        , 1.        ],\n",
       "       [0.        , 1.        ],\n",
       "       [0.15254237, 0.84745763],\n",
       "       [1.        , 0.        ],\n",
       "       [0.        , 1.        ],\n",
       "       [0.35978836, 0.64021164],\n",
       "       [0.        , 1.        ],\n",
       "       [1.        , 0.        ],\n",
       "       [0.21212121, 0.78787879],\n",
       "       [0.33136095, 0.66863905],\n",
       "       [1.        , 0.        ],\n",
       "       [1.        , 0.        ],\n",
       "       [0.        , 1.        ],\n",
       "       [1.        , 0.        ],\n",
       "       [1.        , 0.        ],\n",
       "       [0.        , 1.        ],\n",
       "       [1.        , 0.        ],\n",
       "       [0.01204819, 0.98795181],\n",
       "       [0.97175141, 0.02824859],\n",
       "       [0.88950276, 0.11049724],\n",
       "       [0.97237569, 0.02762431],\n",
       "       [0.97354497, 0.02645503],\n",
       "       [0.00537634, 0.99462366],\n",
       "       [0.07514451, 0.92485549],\n",
       "       [0.98941799, 0.01058201],\n",
       "       [0.        , 1.        ],\n",
       "       [0.        , 1.        ],\n",
       "       [0.01595745, 0.98404255],\n",
       "       [0.99487179, 0.00512821],\n",
       "       [0.76315789, 0.23684211],\n",
       "       [0.37745098, 0.62254902],\n",
       "       [1.        , 0.        ],\n",
       "       [0.        , 1.        ],\n",
       "       [0.72916667, 0.27083333],\n",
       "       [1.        , 0.        ],\n",
       "       [1.        , 0.        ],\n",
       "       [0.87222222, 0.12777778],\n",
       "       [1.        , 0.        ],\n",
       "       [0.63350785, 0.36649215],\n",
       "       [0.12307692, 0.87692308],\n",
       "       [0.66071429, 0.33928571],\n",
       "       [0.90052356, 0.09947644],\n",
       "       [0.        , 1.        ],\n",
       "       [0.12087912, 0.87912088],\n",
       "       [0.90502793, 0.09497207],\n",
       "       [1.        , 0.        ],\n",
       "       [0.00540541, 0.99459459],\n",
       "       [1.        , 0.        ],\n",
       "       [0.        , 1.        ],\n",
       "       [0.04081633, 0.95918367],\n",
       "       [0.06190476, 0.93809524],\n",
       "       [0.31578947, 0.68421053],\n",
       "       [1.        , 0.        ],\n",
       "       [0.        , 1.        ],\n",
       "       [0.84795322, 0.15204678],\n",
       "       [0.        , 1.        ],\n",
       "       [0.        , 1.        ],\n",
       "       [0.        , 1.        ],\n",
       "       [0.20224719, 0.79775281],\n",
       "       [1.        , 0.        ],\n",
       "       [0.        , 1.        ],\n",
       "       [0.        , 1.        ],\n",
       "       [0.        , 1.        ],\n",
       "       [0.96610169, 0.03389831],\n",
       "       [0.76502732, 0.23497268],\n",
       "       [0.        , 1.        ],\n",
       "       [1.        , 0.        ],\n",
       "       [0.18134715, 0.81865285],\n",
       "       [0.61363636, 0.38636364],\n",
       "       [0.        , 1.        ],\n",
       "       [0.05524862, 0.94475138],\n",
       "       [0.45145631, 0.54854369],\n",
       "       [0.99      , 0.01      ],\n",
       "       [0.        , 1.        ],\n",
       "       [0.98901099, 0.01098901],\n",
       "       [0.23958333, 0.76041667],\n",
       "       [0.48387097, 0.51612903],\n",
       "       [1.        , 0.        ],\n",
       "       [0.03726708, 0.96273292],\n",
       "       [0.98421053, 0.01578947],\n",
       "       [0.30851064, 0.69148936],\n",
       "       [0.87709497, 0.12290503],\n",
       "       [1.        , 0.        ],\n",
       "       [1.        , 0.        ],\n",
       "       [0.        , 1.        ],\n",
       "       [0.        , 1.        ],\n",
       "       [0.77173913, 0.22826087],\n",
       "       [1.        , 0.        ],\n",
       "       [0.00581395, 0.99418605],\n",
       "       [1.        , 0.        ],\n",
       "       [1.        , 0.        ],\n",
       "       [1.        , 0.        ],\n",
       "       [0.98913043, 0.01086957],\n",
       "       [1.        , 0.        ],\n",
       "       [0.        , 1.        ],\n",
       "       [0.97191011, 0.02808989],\n",
       "       [1.        , 0.        ],\n",
       "       [0.01156069, 0.98843931],\n",
       "       [0.20765027, 0.79234973],\n",
       "       [0.95081967, 0.04918033],\n",
       "       [0.20958084, 0.79041916],\n",
       "       [0.98514851, 0.01485149],\n",
       "       [0.        , 1.        ],\n",
       "       [0.00921659, 0.99078341],\n",
       "       [0.71111111, 0.28888889],\n",
       "       [0.34183673, 0.65816327],\n",
       "       [0.42857143, 0.57142857],\n",
       "       [0.87777778, 0.12222222],\n",
       "       [0.93513514, 0.06486486],\n",
       "       [0.05025126, 0.94974874],\n",
       "       [0.81770833, 0.18229167],\n",
       "       [0.        , 1.        ],\n",
       "       [0.        , 1.        ],\n",
       "       [0.01785714, 0.98214286],\n",
       "       [0.98387097, 0.01612903],\n",
       "       [1.        , 0.        ],\n",
       "       [1.        , 0.        ],\n",
       "       [0.        , 1.        ],\n",
       "       [0.        , 1.        ],\n",
       "       [0.01142857, 0.98857143],\n",
       "       [0.        , 1.        ],\n",
       "       [1.        , 0.        ],\n",
       "       [1.        , 0.        ],\n",
       "       [0.945     , 0.055     ],\n",
       "       [1.        , 0.        ],\n",
       "       [1.        , 0.        ],\n",
       "       [0.99431818, 0.00568182],\n",
       "       [0.        , 1.        ],\n",
       "       [0.36416185, 0.63583815],\n",
       "       [0.26203209, 0.73796791],\n",
       "       [0.01      , 0.99      ],\n",
       "       [0.        , 1.        ],\n",
       "       [0.31360947, 0.68639053],\n",
       "       [1.        , 0.        ],\n",
       "       [0.98404255, 0.01595745],\n",
       "       [0.        , 1.        ],\n",
       "       [1.        , 0.        ],\n",
       "       [0.        , 1.        ],\n",
       "       [0.        , 1.        ],\n",
       "       [0.97826087, 0.02173913],\n",
       "       [0.        , 1.        ],\n",
       "       [0.        , 1.        ],\n",
       "       [1.        , 0.        ],\n",
       "       [0.        , 1.        ],\n",
       "       [0.6741573 , 0.3258427 ],\n",
       "       [0.89417989, 0.10582011],\n",
       "       [0.        , 1.        ],\n",
       "       [1.        , 0.        ],\n",
       "       [1.        , 0.        ],\n",
       "       [1.        , 0.        ],\n",
       "       [0.00507614, 0.99492386],\n",
       "       [0.        , 1.        ],\n",
       "       [1.        , 0.        ],\n",
       "       [0.04938272, 0.95061728],\n",
       "       [1.        , 0.        ],\n",
       "       [0.0625    , 0.9375    ],\n",
       "       [0.        , 1.        ],\n",
       "       [1.        , 0.        ],\n",
       "       [0.        , 1.        ],\n",
       "       [0.07317073, 0.92682927],\n",
       "       [1.        , 0.        ],\n",
       "       [0.93103448, 0.06896552],\n",
       "       [0.74011299, 0.25988701],\n",
       "       [0.59217877, 0.40782123],\n",
       "       [0.        , 1.        ],\n",
       "       [0.125     , 0.875     ],\n",
       "       [1.        , 0.        ],\n",
       "       [0.94845361, 0.05154639],\n",
       "       [0.97354497, 0.02645503],\n",
       "       [1.        , 0.        ],\n",
       "       [0.00561798, 0.99438202],\n",
       "       [0.        , 1.        ],\n",
       "       [0.47282609, 0.52717391],\n",
       "       [0.85279188, 0.14720812],\n",
       "       [0.        , 1.        ],\n",
       "       [0.        , 1.        ],\n",
       "       [0.98351648, 0.01648352],\n",
       "       [0.00568182, 0.99431818],\n",
       "       [0.00571429, 0.99428571],\n",
       "       [0.96407186, 0.03592814],\n",
       "       [0.        , 1.        ],\n",
       "       [0.21348315, 0.78651685],\n",
       "       [0.        , 1.        ],\n",
       "       [1.        , 0.        ],\n",
       "       [0.        , 1.        ],\n",
       "       [0.        , 1.        ],\n",
       "       [0.96449704, 0.03550296],\n",
       "       [0.82198953, 0.17801047],\n",
       "       [1.        , 0.        ],\n",
       "       [0.        , 1.        ],\n",
       "       [0.08287293, 0.91712707],\n",
       "       [0.99441341, 0.00558659],\n",
       "       [0.        , 1.        ],\n",
       "       [0.        , 1.        ],\n",
       "       [0.09042553, 0.90957447],\n",
       "       [0.99497487, 0.00502513],\n",
       "       [0.83333333, 0.16666667],\n",
       "       [0.00531915, 0.99468085],\n",
       "       [0.9119171 , 0.0880829 ],\n",
       "       [0.99459459, 0.00540541],\n",
       "       [0.21276596, 0.78723404],\n",
       "       [0.20212766, 0.79787234],\n",
       "       [1.        , 0.        ],\n",
       "       [0.        , 1.        ],\n",
       "       [0.        , 1.        ],\n",
       "       [0.        , 1.        ],\n",
       "       [0.26589595, 0.73410405],\n",
       "       [0.94827586, 0.05172414],\n",
       "       [0.        , 1.        ],\n",
       "       [1.        , 0.        ],\n",
       "       [0.99447514, 0.00552486],\n",
       "       [0.        , 1.        ],\n",
       "       [0.56666667, 0.43333333],\n",
       "       [1.        , 0.        ],\n",
       "       [0.        , 1.        ],\n",
       "       [1.        , 0.        ],\n",
       "       [0.        , 1.        ],\n",
       "       [0.        , 1.        ],\n",
       "       [0.07462687, 0.92537313],\n",
       "       [0.0952381 , 0.9047619 ],\n",
       "       [0.98941799, 0.01058201],\n",
       "       [0.01129944, 0.98870056],\n",
       "       [1.        , 0.        ],\n",
       "       [0.38297872, 0.61702128],\n",
       "       [0.09708738, 0.90291262],\n",
       "       [0.55913978, 0.44086022],\n",
       "       [0.61256545, 0.38743455],\n",
       "       [0.        , 1.        ],\n",
       "       [1.        , 0.        ],\n",
       "       [0.        , 1.        ],\n",
       "       [0.        , 1.        ],\n",
       "       [0.62427746, 0.37572254],\n",
       "       [0.        , 1.        ],\n",
       "       [1.        , 0.        ],\n",
       "       [0.27173913, 0.72826087],\n",
       "       [0.8030303 , 0.1969697 ],\n",
       "       [0.075     , 0.925     ],\n",
       "       [1.        , 0.        ],\n",
       "       [0.79081633, 0.20918367],\n",
       "       [0.        , 1.        ],\n",
       "       [0.01142857, 0.98857143],\n",
       "       [0.13259669, 0.86740331],\n",
       "       [0.0257732 , 0.9742268 ],\n",
       "       [0.        , 1.        ],\n",
       "       [0.98924731, 0.01075269],\n",
       "       [0.9027027 , 0.0972973 ],\n",
       "       [0.13744076, 0.86255924],\n",
       "       [0.91752577, 0.08247423],\n",
       "       [0.00598802, 0.99401198],\n",
       "       [0.62637363, 0.37362637],\n",
       "       [0.06951872, 0.93048128],\n",
       "       [0.98857143, 0.01142857],\n",
       "       [0.78947368, 0.21052632],\n",
       "       [0.        , 1.        ],\n",
       "       [0.9947644 , 0.0052356 ],\n",
       "       [0.93434343, 0.06565657],\n",
       "       [0.        , 1.        ],\n",
       "       [0.        , 1.        ],\n",
       "       [1.        , 0.        ],\n",
       "       [0.00546448, 0.99453552],\n",
       "       [1.        , 0.        ],\n",
       "       [0.29050279, 0.70949721],\n",
       "       [0.98787879, 0.01212121],\n",
       "       [1.        , 0.        ],\n",
       "       [0.        , 1.        ],\n",
       "       [0.        , 1.        ],\n",
       "       [0.87431694, 0.12568306],\n",
       "       [0.        , 1.        ],\n",
       "       [1.        , 0.        ],\n",
       "       [0.74576271, 0.25423729],\n",
       "       [0.95721925, 0.04278075],\n",
       "       [1.        , 0.        ],\n",
       "       [0.67346939, 0.32653061],\n",
       "       [0.47263682, 0.52736318],\n",
       "       [0.        , 1.        ],\n",
       "       [0.86592179, 0.13407821],\n",
       "       [0.        , 1.        ],\n",
       "       [1.        , 0.        ],\n",
       "       [0.87634409, 0.12365591],\n",
       "       [1.        , 0.        ],\n",
       "       [1.        , 0.        ],\n",
       "       [0.76719577, 0.23280423],\n",
       "       [0.09042553, 0.90957447],\n",
       "       [0.45882353, 0.54117647],\n",
       "       [0.27840909, 0.72159091],\n",
       "       [0.        , 1.        ],\n",
       "       [0.87428571, 0.12571429],\n",
       "       [0.79310345, 0.20689655],\n",
       "       [0.        , 1.        ],\n",
       "       [1.        , 0.        ],\n",
       "       [1.        , 0.        ],\n",
       "       [1.        , 0.        ],\n",
       "       [0.        , 1.        ],\n",
       "       [0.02139037, 0.97860963],\n",
       "       [0.94680851, 0.05319149],\n",
       "       [0.97126437, 0.02873563],\n",
       "       [1.        , 0.        ],\n",
       "       [0.53191489, 0.46808511],\n",
       "       [1.        , 0.        ],\n",
       "       [0.00518135, 0.99481865],\n",
       "       [0.98387097, 0.01612903],\n",
       "       [0.03191489, 0.96808511],\n",
       "       [1.        , 0.        ],\n",
       "       [1.        , 0.        ],\n",
       "       [1.        , 0.        ],\n",
       "       [0.        , 1.        ],\n",
       "       [0.97076023, 0.02923977],\n",
       "       [0.        , 1.        ],\n",
       "       [0.08241758, 0.91758242],\n",
       "       [0.        , 1.        ],\n",
       "       [0.        , 1.        ],\n",
       "       [1.        , 0.        ],\n",
       "       [1.        , 0.        ],\n",
       "       [0.        , 1.        ],\n",
       "       [0.99378882, 0.00621118],\n",
       "       [0.02094241, 0.97905759],\n",
       "       [1.        , 0.        ],\n",
       "       [0.1125    , 0.8875    ],\n",
       "       [0.        , 1.        ],\n",
       "       [0.00510204, 0.99489796],\n",
       "       [0.        , 1.        ],\n",
       "       [0.42682927, 0.57317073],\n",
       "       [0.08474576, 0.91525424],\n",
       "       [0.18012422, 0.81987578],\n",
       "       [1.        , 0.        ],\n",
       "       [0.975     , 0.025     ],\n",
       "       [0.18817204, 0.81182796],\n",
       "       [0.98913043, 0.01086957],\n",
       "       [0.        , 1.        ],\n",
       "       [0.00480769, 0.99519231],\n",
       "       [1.        , 0.        ],\n",
       "       [0.96517413, 0.03482587],\n",
       "       [0.31638418, 0.68361582],\n",
       "       [0.99      , 0.01      ],\n",
       "       [1.        , 0.        ],\n",
       "       [0.        , 1.        ],\n",
       "       [1.        , 0.        ],\n",
       "       [0.        , 1.        ],\n",
       "       [0.06315789, 0.93684211],\n",
       "       [0.98333333, 0.01666667],\n",
       "       [1.        , 0.        ],\n",
       "       [0.01204819, 0.98795181],\n",
       "       [0.66857143, 0.33142857]])"
      ]
     },
     "execution_count": 17,
     "metadata": {},
     "output_type": "execute_result"
    }
   ],
   "source": [
    "bag_clf.oob_decision_function_"
   ]
  },
  {
   "cell_type": "markdown",
   "metadata": {},
   "source": [
    "### 7.3 랜덤 패치와 랜덤 서브스페이스\n"
   ]
  }
 ],
 "metadata": {
  "kernelspec": {
   "display_name": "Python 3",
   "language": "python",
   "name": "python3"
  },
  "language_info": {
   "codemirror_mode": {
    "name": "ipython",
    "version": 3
   },
   "file_extension": ".py",
   "mimetype": "text/x-python",
   "name": "python",
   "nbconvert_exporter": "python",
   "pygments_lexer": "ipython3",
   "version": "3.8.5"
  }
 },
 "nbformat": 4,
 "nbformat_minor": 4
}
